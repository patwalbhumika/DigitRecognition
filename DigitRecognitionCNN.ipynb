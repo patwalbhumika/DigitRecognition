{
  "nbformat": 4,
  "nbformat_minor": 0,
  "metadata": {
    "colab": {
      "provenance": [],
      "mount_file_id": "1XU-jdtVZzhDJJKU4hNRLYaQpf4jPEUqD",
      "authorship_tag": "ABX9TyNITnp5nZdfnFHcl7Zh1wbc",
      "include_colab_link": true
    },
    "kernelspec": {
      "name": "python3",
      "display_name": "Python 3"
    },
    "language_info": {
      "name": "python"
    }
  },
  "cells": [
    {
      "cell_type": "markdown",
      "metadata": {
        "id": "view-in-github",
        "colab_type": "text"
      },
      "source": [
        "<a href=\"https://colab.research.google.com/github/patwalbhumika/DigitRecognition/blob/main/DigitRecognitionCNN.ipynb\" target=\"_parent\"><img src=\"https://colab.research.google.com/assets/colab-badge.svg\" alt=\"Open In Colab\"/></a>"
      ]
    },
    {
      "cell_type": "markdown",
      "source": [
        "handwritten digit recognition CNN using tensorflow in collab with MSpaint"
      ],
      "metadata": {
        "id": "Dn1I0gGAwrfR"
      }
    },
    {
      "cell_type": "code",
      "source": [
        "import tensorflow as tf"
      ],
      "metadata": {
        "id": "y8dLJkPEzRpq"
      },
      "execution_count": 1,
      "outputs": []
    },
    {
      "cell_type": "markdown",
      "source": [
        "Loading MNIST Dataset with 60k training and 10k testing data samples\n",
        "tensorflow already contains MNIST dataset which can be loaded using Keras(tensorflow's API)"
      ],
      "metadata": {
        "id": "a75Dpg06zgF2"
      }
    },
    {
      "cell_type": "code",
      "source": [
        "mnist=tf.keras.datasets.mnist\n",
        "#dataset of handwritten 28 x 28 pixels 0-9 digits"
      ],
      "metadata": {
        "id": "w3G0tECsz0KH"
      },
      "execution_count": 3,
      "outputs": []
    },
    {
      "cell_type": "code",
      "source": [
        "#unpacking dataset into training and testing data\n",
        "(x_train,y_train),(x_test,y_test)=mnist.load_data()"
      ],
      "metadata": {
        "id": "MZZzvM480xbR"
      },
      "execution_count": null,
      "outputs": []
    },
    {
      "cell_type": "code",
      "source": [
        "#size\n",
        "x_train.shape"
      ],
      "metadata": {
        "id": "7I60sZik1C7C"
      },
      "execution_count": null,
      "outputs": []
    },
    {
      "cell_type": "code",
      "source": [
        "import matplotlib.pyplot as plt"
      ],
      "metadata": {
        "id": "Z1H47vR-1NJF"
      },
      "execution_count": 6,
      "outputs": []
    },
    {
      "cell_type": "code",
      "source": [
        "#plot the graph\n",
        "plt.imshow(x_train[1])\n",
        "plt.show()  #color image\n",
        "plt.imshow(x_train[1], cmap=plt.cm.binary)  #to show binary image\n",
        "plt.axis(\"off\") #to remove axes"
      ],
      "metadata": {
        "id": "otvHJnjO1soT"
      },
      "execution_count": null,
      "outputs": []
    },
    {
      "cell_type": "markdown",
      "source": [
        "checking value of each pixel before normalization\n",
        "*gray level(1 channel=>0 to 255)*\n"
      ],
      "metadata": {
        "id": "mofR7-LK2dWK"
      }
    },
    {
      "cell_type": "code",
      "source": [
        "print(x_train[1])"
      ],
      "metadata": {
        "id": "qF2EruF22hGi"
      },
      "execution_count": null,
      "outputs": []
    },
    {
      "cell_type": "markdown",
      "source": [
        "PRE-PROCESSING STEP      "
      ],
      "metadata": {
        "id": "s3koIJ_s3O5R"
      }
    },
    {
      "cell_type": "markdown",
      "source": [
        "normalizing data->scaling features of dataset to similar range,           "
      ],
      "metadata": {
        "id": "Qktc6VzP5WsX"
      }
    },
    {
      "cell_type": "markdown",
      "source": [
        "normalization is done in order to prevent situation if digit is any other color,it;ll be brought back to 0 and 1"
      ],
      "metadata": {
        "id": "m0Qwc9Gt5ay7"
      }
    },
    {
      "cell_type": "code",
      "source": [
        "x_train=tf.keras.utils.normalize(x_train,axis=1)\n",
        "x_test=tf.keras.utils.normalize(x_test, axis=1)\n",
        "plt.imshow(x_train[1] , cmap=plt.cm.binary)\n",
        "plt.axis(\"off\")"
      ],
      "metadata": {
        "id": "ugU-2ywc3RTI"
      },
      "execution_count": null,
      "outputs": []
    },
    {
      "cell_type": "code",
      "source": [
        "#x contains all features values of digits as NumPy array\n",
        "#after normalization (all values are in range 0 and 1)\n",
        "print(x_train[1])"
      ],
      "metadata": {
        "id": "tgdbUKfo4nhG"
      },
      "execution_count": null,
      "outputs": []
    },
    {
      "cell_type": "code",
      "source": [
        "#y contaons all corresponding values of features in the form of NumPy array\n",
        "print(y_train[1])"
      ],
      "metadata": {
        "id": "a2TPDd105A1q"
      },
      "execution_count": null,
      "outputs": []
    },
    {
      "cell_type": "markdown",
      "source": [
        "RESIZING IMAGE TO MAKE IT SUITABLE TO APPLY CONVOLUTION OPERATION"
      ],
      "metadata": {
        "id": "WtiNv4cd58NH"
      }
    },
    {
      "cell_type": "code",
      "source": [
        "import numpy as np\n",
        "#we need to convert image into 28 x 28 pixels\n",
        "IMAGE_SIZE=28\n",
        "#we need an extra dimension to further perform Convolution operation\n",
        "x_trainr = np.array(x_train).reshape(-1 , IMAGE_SIZE , IMAGE_SIZE , 1)\n",
        "x_testr = np.array(x_test).reshape(-1 ,IMAGE_SIZE , IMAGE_SIZE , 1)\n",
        "print(\"TRAINING Samples Dimensions\" , x_trainr.shape)\n",
        "print(\"TESTING Samples Dimension\", x_testr.shape)"
      ],
      "metadata": {
        "colab": {
          "base_uri": "https://localhost:8080/"
        },
        "id": "OZJv4pZw57js",
        "outputId": "0a040a95-cdb5-4eb5-feb4-e13f5128667b"
      },
      "execution_count": 20,
      "outputs": [
        {
          "output_type": "stream",
          "name": "stdout",
          "text": [
            "TRAINING Samples Dimensions (60000, 28, 28, 1)\n",
            "TESTING Samples Dimension (10000, 28, 28, 1)\n"
          ]
        }
      ]
    },
    {
      "cell_type": "markdown",
      "source": [
        "\n",
        "\n",
        "**Creating a DEEP NEURAL NETWORK**\n"
      ],
      "metadata": {
        "id": "85S0pDjt-vQB"
      }
    },
    {
      "cell_type": "markdown",
      "source": [
        "Training on 60k samples of MNIST Dataset"
      ],
      "metadata": {
        "id": "6bazNduA-3Bh"
      }
    },
    {
      "cell_type": "code",
      "source": [
        "from tensorflow.keras.models import Sequential #connects diff deep learning layers\n",
        "#names of diff layers\n",
        "from tensorflow.keras.layers import Dense ,Dropout, Activation, Flatten, Conv2D, MaxPooling2D"
      ],
      "metadata": {
        "id": "Q_JoJX9N-1vW"
      },
      "execution_count": 22,
      "outputs": []
    },
    {
      "cell_type": "code",
      "source": [
        "#creating a neural network layer\n",
        "model=Sequential()\n",
        "\n",
        "#first convolution layer (60k,28,28,1)\n",
        "#no. of kernels /filter =64 , each filter size=3 x 3\n",
        "model.add(Conv2D (64, (3,3), input_shape= x_trainr.shape[1:]))#28-3+1= 26 x 26\n",
        "#activation function to make it non-linear , if>0 then allow else remove\n",
        "model.add(Activation ( \"relu\")) #26/2=13 layer size\n",
        "\n",
        "#maxpooline function to get maximum value of 2 x 2 and drop rest values\n",
        "#propogating only max value to the next layer\n",
        "model.add(MaxPooling2D (pool_size = (2,2)))\n",
        "\n",
        "#2nd Convolution layer\n",
        "model.add(Conv2D (64, (3,3))) #13-3=1=11\n",
        "model.add(Activation ( \"relu\"))\n",
        "model.add(MaxPooling2D (pool_size = (2,2))) #11/2=5\n",
        "\n",
        "#3rd Convolution layer\n",
        "model.add(Conv2D (64, (3,3 ) ) ) #5-3+1=3\n",
        "model.add(Activation ( \"relu\"))\n",
        "model.add(MaxPooling2D (pool_size = (2,2 ) ) ) #3/2=1\n",
        "\n",
        "#fully Connected Layer 1\n",
        "model.add (Flatten() )  #20x20=400 2D to 1D conversion\n",
        "model.add (Dense(64) ) #neural network(64 neurons)\n",
        "model.add (Activation(\"relu\"))\n",
        "\n",
        "#fully connected Layer2\n",
        "model.add(Dense(32))\n",
        "model.add(Activation(\"relu\"))\n",
        "\n",
        "#last fully connected layer, output must be equal to number of classes=10(0-9)\n",
        "model.add(Dense(10)) #last layer must be equal to 10\n",
        "model.add(Activation(\"softmax\")) #softmax- class probabilities\n",
        "#in case eof binary classification, 1 neuron in dense layer,activation with 'sigmoid' instead of 'softmax'"
      ],
      "metadata": {
        "id": "fpTlfurI51V0"
      },
      "execution_count": 24,
      "outputs": []
    },
    {
      "cell_type": "code",
      "source": [
        "model.summary()"
      ],
      "metadata": {
        "id": "WwFjLXuha4oC"
      },
      "execution_count": null,
      "outputs": []
    },
    {
      "cell_type": "code",
      "source": [
        "print(\"total training samples = \" , len(x_trainr))"
      ],
      "metadata": {
        "colab": {
          "base_uri": "https://localhost:8080/"
        },
        "id": "LZ205sFcbps1",
        "outputId": "239e7384-98b0-43a1-9f7f-a3edbbc43aeb"
      },
      "execution_count": 26,
      "outputs": [
        {
          "output_type": "stream",
          "name": "stdout",
          "text": [
            "total training samples =  60000\n"
          ]
        }
      ]
    },
    {
      "cell_type": "code",
      "source": [
        "#compiling my model\n",
        "model.compile(loss= \"sparse_categorical_crossentropy\",optimizer=\"adam\", metrics=['accuracy'])"
      ],
      "metadata": {
        "id": "Z3Z_vPD_bxOJ"
      },
      "execution_count": 27,
      "outputs": []
    },
    {
      "cell_type": "markdown",
      "source": [
        "\n",
        "**Training my model**"
      ],
      "metadata": {
        "id": "g6uxitNJeA4F"
      }
    },
    {
      "cell_type": "markdown",
      "source": [
        "data->x_trainr , label->y_train"
      ],
      "metadata": {
        "id": "aZvh6Eo_eH7u"
      }
    },
    {
      "cell_type": "markdown",
      "source": [
        "epochs  ->  no. of times the model will iterate over the entire training dataset during the training process\n",
        "30% of the training data will be used for validation(model's performance on unseen data during training),70% will be used for training"
      ],
      "metadata": {
        "id": "HOK1_1XaeKFl"
      }
    },
    {
      "cell_type": "code",
      "source": [
        "model.fit(x_trainr , y_train, epochs=5, validation_split= 0.3)"
      ],
      "metadata": {
        "colab": {
          "base_uri": "https://localhost:8080/"
        },
        "id": "2G3YZfFicE9a",
        "outputId": "0fda8ded-90f1-461b-a778-274123899533"
      },
      "execution_count": 33,
      "outputs": [
        {
          "output_type": "stream",
          "name": "stdout",
          "text": [
            "Epoch 1/5\n",
            "1313/1313 [==============================] - 77s 59ms/step - loss: 0.0183 - accuracy: 0.9940 - val_loss: 0.0582 - val_accuracy: 0.9847\n",
            "Epoch 2/5\n",
            "1313/1313 [==============================] - 75s 57ms/step - loss: 0.0126 - accuracy: 0.9959 - val_loss: 0.0671 - val_accuracy: 0.9850\n",
            "Epoch 3/5\n",
            "1313/1313 [==============================] - 75s 57ms/step - loss: 0.0149 - accuracy: 0.9948 - val_loss: 0.0916 - val_accuracy: 0.9762\n",
            "Epoch 4/5\n",
            "1313/1313 [==============================] - 72s 55ms/step - loss: 0.0132 - accuracy: 0.9953 - val_loss: 0.0745 - val_accuracy: 0.9834\n",
            "Epoch 5/5\n",
            "1313/1313 [==============================] - 72s 55ms/step - loss: 0.0126 - accuracy: 0.9960 - val_loss: 0.0852 - val_accuracy: 0.9813\n"
          ]
        },
        {
          "output_type": "execute_result",
          "data": {
            "text/plain": [
              "<keras.src.callbacks.History at 0x7c17b5fc8340>"
            ]
          },
          "metadata": {},
          "execution_count": 33
        }
      ]
    },
    {
      "cell_type": "markdown",
      "source": [
        ". validation accuracy ~ accuracy -> good model\n",
        "val_accuracy < accuracy -> overfitting"
      ],
      "metadata": {
        "id": "jG4cFBOMfAQT"
      }
    },
    {
      "cell_type": "code",
      "source": [
        "#evaluating on testing dataset MNIST\n",
        "test_loss , test_acc = model.evaluate(x_testr , y_test)\n",
        "print(\"Test loss on 10,000 test samples = \",test_loss)\n",
        "print(\"Validation accuracy on 10,000 test samples = \",test_acc)"
      ],
      "metadata": {
        "colab": {
          "base_uri": "https://localhost:8080/"
        },
        "id": "4h4gpqFbfcCw",
        "outputId": "797492ec-f142-4a79-ca3e-b85c7ef9efa5"
      },
      "execution_count": 30,
      "outputs": [
        {
          "output_type": "stream",
          "name": "stdout",
          "text": [
            "313/313 [==============================] - 5s 17ms/step - loss: 0.0568 - accuracy: 0.9861\n",
            "Test loss on 10,000 test samples =  0.05675053223967552\n",
            "Validation accuracy on 10,000 test samples =  0.9861000180244446\n"
          ]
        }
      ]
    },
    {
      "cell_type": "code",
      "source": [
        "predictions= model.predict([x_testr])\n",
        "print(predictions) #array with softmax predictions"
      ],
      "metadata": {
        "id": "3049IOkVgan-"
      },
      "execution_count": null,
      "outputs": []
    },
    {
      "cell_type": "code",
      "source": [
        "print(np.argmax(predictions[0])) #argmax returns max value indx and find its value"
      ],
      "metadata": {
        "colab": {
          "base_uri": "https://localhost:8080/"
        },
        "id": "HEX4SQKwiZTG",
        "outputId": "734497d0-6b96-439a-f230-591ee4d77561"
      },
      "execution_count": 35,
      "outputs": [
        {
          "output_type": "stream",
          "name": "stdout",
          "text": [
            "7\n"
          ]
        }
      ]
    },
    {
      "cell_type": "code",
      "source": [
        "plt.imshow(x_testr[0])"
      ],
      "metadata": {
        "colab": {
          "base_uri": "https://localhost:8080/",
          "height": 447
        },
        "id": "hVqpLZDjiz5N",
        "outputId": "092b9f33-befb-4e7b-d8b0-d3ac460e0a3e"
      },
      "execution_count": 52,
      "outputs": [
        {
          "output_type": "execute_result",
          "data": {
            "text/plain": [
              "<matplotlib.image.AxesImage at 0x7c17b6931480>"
            ]
          },
          "metadata": {},
          "execution_count": 52
        },
        {
          "output_type": "display_data",
          "data": {
            "text/plain": [
              "<Figure size 640x480 with 1 Axes>"
            ],
            "image/png": "[encoded data removed]"
          },
          "metadata": {}
        }
      ]
    },
    {
      "cell_type": "code",
      "source": [
        "#again cross-checking the prediction o working of my model\n",
        "print(np.argmax(predictions[128]))"
      ],
      "metadata": {
        "colab": {
          "base_uri": "https://localhost:8080/"
        },
        "id": "n0ac0Ds9i5P1",
        "outputId": "3f4bf30e-487f-4e00-dc79-489e33ddcff6"
      },
      "execution_count": 37,
      "outputs": [
        {
          "output_type": "stream",
          "name": "stdout",
          "text": [
            "8\n"
          ]
        }
      ]
    },
    {
      "cell_type": "code",
      "source": [
        "plt.imshow(x_test[128])"
      ],
      "metadata": {
        "colab": {
          "base_uri": "https://localhost:8080/",
          "height": 447
        },
        "id": "MIDJcP4vjGiV",
        "outputId": "c703d967-dd2d-45b9-8ad3-59965712d44c"
      },
      "execution_count": 39,
      "outputs": [
        {
          "output_type": "execute_result",
          "data": {
            "text/plain": [
              "<matplotlib.image.AxesImage at 0x7c17cd4e6ce0>"
            ]
          },
          "metadata": {},
          "execution_count": 39
        },
        {
          "output_type": "display_data",
          "data": {
            "text/plain": [
              "<Figure size 640x480 with 1 Axes>"
            ],
            "image/png": "[encoded data removed]"
          },
          "metadata": {}
        }
      ]
    }
  ]
}